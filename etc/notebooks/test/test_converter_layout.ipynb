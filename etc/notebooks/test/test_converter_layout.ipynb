{
 "cells": [
  {
   "cell_type": "markdown",
   "metadata": {},
   "source": [
    "# Test Converter Layout\n",
    "\n",
    "Turns test_layout.ipynb into a single HTML Thebe dashboard page pointing back to this Jupyter server. Allows you to change `urth/dashboard/converter/*` on your host machine and see the changes reflected in the generated app the next time you execute this notebook.\n",
    "\n",
    "## Process\n",
    "\n",
    "1. (Optional) Adjust the `SOURCE_NOTEBOOK` and `KERNEL_SERVICE_URL` variables to point to the notebook you'd like to convert and the IP address if your Jupyter is not running on the default `docker-machine` IP.\n",
    "2. Click the link at the bottom, adjusting the URL if you changed `KERNEL_SERVICE_URL`\n",
    "3. The dashboard page will automatically run all cells.\n",
    "4. Make edits to `urth/dashboard/converter/jinja_templates/thebe.tpl` or files in `urth/dashboard/converter/static` in the source tree on your Mac.\n",
    "5. Repeat 2-4 until happy (or sad).\n",
    "\n",
    "\n",
    "## Caveats\n",
    "\n",
    "* If you make changes to the converter Python code, you need to restart the kernel and re-run the import statement too."
   ]
  },
  {
   "cell_type": "code",
   "execution_count": 1,
   "metadata": {
    "collapsed": true
   },
   "outputs": [],
   "source": [
    "SOURCE_NOTEBOOK = '/home/jovyan/work/test_layout.ipynb'\n",
    "OUTPUT_PATH = '/home/jovyan/work/test_app'\n",
    "KERNEL_SERVICE_URL = 'http://192.168.99.100:9500'"
   ]
  },
  {
   "cell_type": "code",
   "execution_count": 2,
   "metadata": {
    "collapsed": true
   },
   "outputs": [],
   "source": [
    "import os\n",
    "import urth.dashboard.converter as converter"
   ]
  },
  {
   "cell_type": "code",
   "execution_count": 3,
   "metadata": {
    "collapsed": false
   },
   "outputs": [],
   "source": [
    "!rm -rf $OUTPUT_PATH"
   ]
  },
  {
   "cell_type": "code",
   "execution_count": 4,
   "metadata": {
    "collapsed": false
   },
   "outputs": [],
   "source": [
    "os.makedirs(OUTPUT_PATH)"
   ]
  },
  {
   "cell_type": "code",
   "execution_count": 5,
   "metadata": {
    "collapsed": false
   },
   "outputs": [],
   "source": [
    "location = converter.to_php_app(SOURCE_NOTEBOOK, OUTPUT_PATH)"
   ]
  },
  {
   "cell_type": "code",
   "execution_count": 6,
   "metadata": {
    "collapsed": false
   },
   "outputs": [],
   "source": [
    "with open(OUTPUT_PATH+'/index.php') as f:\n",
    "    php = f.read()"
   ]
  },
  {
   "cell_type": "markdown",
   "metadata": {},
   "source": [
    "The converter produces PHP. But here we're just trying to reuse Jupyter as a static HTML file server. So wipe the PHP and hardcode the URL of this server instance."
   ]
  },
  {
   "cell_type": "code",
   "execution_count": 9,
   "metadata": {
    "collapsed": false
   },
   "outputs": [],
   "source": [
    "html = php.replace('<?php echo $_ENV[\"KERNEL_SERVICE_URL\"] ?>', KERNEL_SERVICE_URL)"
   ]
  },
  {
   "cell_type": "code",
   "execution_count": 10,
   "metadata": {
    "collapsed": true
   },
   "outputs": [],
   "source": [
    "with open(OUTPUT_PATH+'/index.html', 'w') as fh:\n",
    "    fh.write(html)"
   ]
  },
  {
   "cell_type": "markdown",
   "metadata": {},
   "source": [
    "http://192.168.99.100:9500/files/test_app/index.html"
   ]
  },
  {
   "cell_type": "code",
   "execution_count": null,
   "metadata": {
    "collapsed": true
   },
   "outputs": [],
   "source": []
  }
 ],
 "metadata": {
  "celltoolbar": "Section",
  "kernelspec": {
   "display_name": "Python 3",
   "language": "python",
   "name": "python3"
  },
  "language_info": {
   "codemirror_mode": {
    "name": "ipython",
    "version": 3
   },
   "file_extension": ".py",
   "mimetype": "text/x-python",
   "name": "python",
   "nbconvert_exporter": "python",
   "pygments_lexer": "ipython3",
   "version": "3.4.3"
  }
 },
 "nbformat": 4,
 "nbformat_minor": 0
}

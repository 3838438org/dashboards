{
 "cells": [
  {
   "cell_type": "markdown",
   "metadata": {
    "urth_section": {
     "id": "1"
    }
   },
   "source": [
    "## %%html and %%javascript magics test case\n",
    "\n",
    "This page's background should turn red and the heading above should turn blue."
   ]
  },
  {
   "cell_type": "code",
   "execution_count": 11,
   "metadata": {
    "collapsed": false,
    "urth_section": {}
   },
   "outputs": [
    {
     "data": {
      "text/html": [
       "<style>\n",
       "h2 {\n",
       "    color: blue;\n",
       "}\n",
       "</style>"
      ],
      "text/plain": [
       "<IPython.core.display.HTML object>"
      ]
     },
     "metadata": {},
     "output_type": "display_data"
    }
   ],
   "source": [
    "%%html\n",
    "<style>\n",
    "h2 {\n",
    "    color: blue;\n",
    "}\n",
    "</style>"
   ]
  },
  {
   "cell_type": "code",
   "execution_count": 15,
   "metadata": {
    "collapsed": false,
    "urth_section": {}
   },
   "outputs": [
    {
     "data": {
      "application/javascript": [
       "require([\"widgets/js/widget\", \"widgets/js/manager\"], function(widget, manager){    \n",
       "    console.log('IT WORKS! <div />');\n",
       "});"
      ],
      "text/plain": [
       "<IPython.core.display.Javascript object>"
      ]
     },
     "metadata": {},
     "output_type": "display_data"
    }
   ],
   "source": [
    "%%javascript\n",
    "require([\"widgets/js/widget\", \"widgets/js/manager\"], function(widget, manager){    \n",
    "    console.log('IT WORKS! <div />');\n",
    "});"
   ]
  },
  {
   "cell_type": "code",
   "execution_count": 13,
   "metadata": {
    "collapsed": false,
    "urth_section": {}
   },
   "outputs": [
    {
     "data": {
      "application/javascript": [
       "var body = document.getElementsByTagName('body')\n",
       "body[0].style.backgroundColor = 'red';"
      ],
      "text/plain": [
       "<IPython.core.display.Javascript object>"
      ]
     },
     "metadata": {},
     "output_type": "display_data"
    }
   ],
   "source": [
    "%%javascript\n",
    "var body = document.getElementsByTagName('body')\n",
    "body[0].style.backgroundColor = 'red';"
   ]
  }
 ],
 "metadata": {
  "celltoolbar": "Section",
  "kernelspec": {
   "display_name": "Python 3",
   "language": "python",
   "name": "python3"
  },
  "language_info": {
   "codemirror_mode": {
    "name": "ipython",
    "version": 3
   },
   "file_extension": ".py",
   "mimetype": "text/x-python",
   "name": "python",
   "nbconvert_exporter": "python",
   "pygments_lexer": "ipython3",
   "version": "3.4.0"
  }
 },
 "nbformat": 4,
 "nbformat_minor": 0
}

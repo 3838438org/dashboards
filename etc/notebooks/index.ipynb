{
 "cells": [
  {
   "cell_type": "markdown",
   "metadata": {
    "urth": {
     "dashboard": {
      "layout": {
       "col": 2,
       "height": 4,
       "row": 0,
       "width": 9
      }
     }
    }
   },
   "source": [
    "#Dynamic Dashboards\n",
    "\n",
    "Welcome to the [Dynamic Dashboards](https://github.com/jupyter-incubator/dashboards) project. This page will guide you through our example notebooks we have provided to demonstrate the dashboard notebook extension itself along with key technologies suitable for dashboard content.\n",
    "\n",
    "###Dashboards\n",
    "Dynamic Dashboards allow us to quickly create a functional application with minimal effort using a notebook. The notebook cell outputs become the components of the dashboard and can be moved, resized, and hidden as appropriate. To see the dashboard in action, look at these basic notebooks:\n",
    "\n",
    "1. [Got Scotch?](got_scotch_demo/scotch_dashboard.ipynb) - uses IPyWidgets to show similarities between scotch varieties\n",
    "\n",
    "<img style=\"float:right;height:300px;\" src=\"images/dashboard-abstraction.png\">\n",
    "\n",
    "###Declarative Widgets\n",
    "Dynamic Dashboards work very well with [Declarative Widgets](https://github.com/jupyter-incubator/declarativewidgets) and other [Polymer](https://www.polymer-project.org/1.0/) elements:\n",
    "\n",
    "1. [NYC Taxi Trips & Fares](taxi_demo/taxi_dashboard.ipynb) - visualizes a sampling of New York City taxi trips and fares\n",
    "2. [Community Sentiment](community_sentiment_demo/community_sentiment_demo.ipynb) - describes the sentiment of an open source project on GitHub\n",
    "\n",
    "###Apache Spark\n",
    "Using technologies like Apache Spark, we can incorporate Big Data analysis into our Dashboards. In particular, we can make use of Spark Streaming to dynamically update dashboard content as new data is received.\n",
    "\n",
    "1. [Meetup Streaming](stream_demo/meetup-streaming.ipynb) - example of Spark Streaming in a notebook/dashboard\n",
    "2. [Meetup Outreach](meetup_outreach_demo/meetup-outreach.ipynb) - real-world application of a streaming dashboard\n",
    "\n",
    "###Development\n",
    "In addition to the demo notebooks above, we have provided these notebooks to cover aspects of the development process.\n",
    "\n",
    "1. [Resizable Widgets](resizable_widgets_tutorial/resizable_widgets.ipynb) - demonstrates how to implement a Polymer element that sizes itself to fit in a dashboard cell\n",
    "2. [Associations Demo](associations_demo/associations_demo.ipynb) - package sibling files along with deployed dashboard\n",
    "3. [Tests](test) - these cover various dashboard features and are useful for developers of the dashboard extension itself\n"
   ]
  }
 ],
 "metadata": {
  "kernelspec": {
   "display_name": "Python 3",
   "language": "python",
   "name": "python3"
  },
  "language_info": {
   "codemirror_mode": {
    "name": "ipython",
    "version": 3
   },
   "file_extension": ".py",
   "mimetype": "text/x-python",
   "name": "python",
   "nbconvert_exporter": "python",
   "pygments_lexer": "ipython3",
   "version": "3.4.3"
  },
  "urth": {
   "dashboard": {
    "cellMargin": 10,
    "defaultCellHeight": 20,
    "maxColumns": 12
   }
  }
 },
 "nbformat": 4,
 "nbformat_minor": 0
}
